# RICC-HAT: An Interactive Tutorial

Welcome! This notebook provides a hands-on demonstration of the **Hardware-Aware Training (HAT)** methodology presented in our paper, "Resilience that Learns."

The core idea of HAT is simple but powerful: instead of training an AI agent in a perfect, idealized world, we train it in a simulation that constantly bombards it with the same kind of noise and imperfections it will face in the real, physical hardware. This forces the agent to become **robust by design, not by chance.**

In this tutorial, we will:
1.  Define a simple neural network.
2.  Define two training methods: an **Ideal** method and a **HAT** method.
3.  Compare how they learn to approximate a simple function.

Let's get started!
