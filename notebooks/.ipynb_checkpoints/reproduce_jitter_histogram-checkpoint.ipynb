{
 "cells": [
  {
   "cell_type": "markdown",
   "id": "03f85470-77ef-4026-8ded-408a005469f7",
   "metadata": {},
   "source": [
    "# Reproducibility: Statistical Jitter Validation\n",
    "\n",
    "This notebook provides a rigorous, transparent validation of the RMS Period Jitter statistics reported in our paper, \"Resilience that Learns.\"\n",
    "\n",
    "**Objective:**\n",
    "To load the raw waveform data for a specified process corner (`TT`, `SS`, or `FF`), calculate the RMS jitter for each of the 1,000 runs, and statistically validate the results against the values reported in **Supplementary Note S2, Table S1**.\n",
    "\n",
    "**Process:**\n",
    "1.  **Select a Process Corner:** The user can specify which dataset to analyze.\n",
    "2.  **Load Data:** The notebook loads the corresponding raw CSV file.\n",
    "3.  **Calculate Jitter:** It processes each waveform to compute its RMS jitter.\n",
    "4.  **Analyze & Visualize:** It plots a histogram of the jitter distribution, fits a theoretical Gaussian distribution to the data, and compares the key statistical moments (mean, std. dev.) with the values reported in our manuscript."
   ]
  },
  {
   "cell_type": "code",
   "execution_count": 7,
   "id": "84d9a881-85e1-49c2-baff-1e15d28df4ee",
   "metadata": {
    "scrolled": true
   },
   "outputs": [],
   "source": [
    "import sys\n",
    "import os\n",
    "\n",
    "# This adds the project root directory to the Python path.\n",
    "# It allows the notebook to find the 'src' module even if run from the 'notebooks' directory.\n",
    "project_root = os.path.abspath(os.path.join(os.getcwd(), '..'))\n",
    "if project_root not in sys.path:\n",
    "    sys.path.insert(0, project_root)\n",
    "import pandas as pd\n",
    "import numpy as np\n",
    "import matplotlib.pyplot as plt\n",
    "from scipy.stats import norm # For fitting the Gaussian curve\n",
    "from tqdm.notebook import tqdm\n",
    "import os\n",
    "\n",
    "# Import our custom analysis function\n",
    "from src.jitter_analysis import calculate_rms_period_jitter\n",
    "\n",
    "# --- USER: SELECT THE CORNER TO ANALYZE ---\n",
    "# Change this to 'SS' or 'FF' to analyze other datasets\n",
    "# (Ensure you have generated the corresponding data file first)\n",
    "TARGET_CORNER = 'TT' \n",
    "# ---------------------------------------------\n",
    "\n",
    "# Dictionary of expected values from Supplementary Table S1\n",
    "# This acts as our \"ground truth\" from the manuscript\n",
    "MANUSCRIPT_STATS = {\n",
    "    'TT': {'mean': 19.8, 'std': 6.2 / 3.0},\n",
    "    'SS': {'mean': 25.3, 'std': 7.8 / 3.0},\n",
    "    'FF': {'mean': 17.1, 'std': 5.8 / 3.0}\n",
    "}\n",
    "EXPECTED_MEAN = MANUSCRIPT_STATS[TARGET_CORNER]['mean']\n",
    "EXPECTED_STD = MANUSCRIPT_STATS[TARGET_CORNER]['std']"
   ]
  },
  {
   "cell_type": "code",
   "execution_count": 8,
   "id": "fc3b49ff-c682-4167-ad5a-0c3b7e288860",
   "metadata": {},
   "outputs": [
    {
     "name": "stdout",
     "output_type": "stream",
     "text": [
      "--- Analyzing Corner: TT ---\n",
      "Loading raw waveform data from: raw_data/stress_test_TT_corner_1000_runs.csv\n"
     ]
    },
    {
     "ename": "FileNotFoundError",
     "evalue": "\nERROR: Data file not found. Please run 'python scripts/generate_raw_data.py --corner TT' first.",
     "output_type": "error",
     "traceback": [
      "\u001b[31m---------------------------------------------------------------------------\u001b[39m",
      "\u001b[31mFileNotFoundError\u001b[39m                         Traceback (most recent call last)",
      "\u001b[36mCell\u001b[39m\u001b[36m \u001b[39m\u001b[32mIn[8]\u001b[39m\u001b[32m, line 8\u001b[39m\n\u001b[32m      5\u001b[39m \u001b[38;5;28mprint\u001b[39m(\u001b[33mf\u001b[39m\u001b[33m\"\u001b[39m\u001b[33mLoading raw waveform data from: \u001b[39m\u001b[38;5;132;01m{\u001b[39;00mDATA_FILE\u001b[38;5;132;01m}\u001b[39;00m\u001b[33m\"\u001b[39m)\n\u001b[32m      7\u001b[39m \u001b[38;5;28;01mif\u001b[39;00m \u001b[38;5;129;01mnot\u001b[39;00m os.path.exists(DATA_FILE):\n\u001b[32m----> \u001b[39m\u001b[32m8\u001b[39m     \u001b[38;5;28;01mraise\u001b[39;00m \u001b[38;5;167;01mFileNotFoundError\u001b[39;00m(\u001b[33mf\u001b[39m\u001b[33m\"\u001b[39m\u001b[38;5;130;01m\\n\u001b[39;00m\u001b[33mERROR: Data file not found. Please run \u001b[39m\u001b[33m'\u001b[39m\u001b[33mpython scripts/generate_raw_data.py --corner \u001b[39m\u001b[38;5;132;01m{\u001b[39;00mTARGET_CORNER\u001b[38;5;132;01m}\u001b[39;00m\u001b[33m'\u001b[39m\u001b[33m first.\u001b[39m\u001b[33m\"\u001b[39m)\n\u001b[32m     10\u001b[39m df = pd.read_csv(DATA_FILE)\n\u001b[32m     11\u001b[39m \u001b[38;5;28mprint\u001b[39m(\u001b[33m\"\u001b[39m\u001b[33mData loaded successfully.\u001b[39m\u001b[33m\"\u001b[39m)\n",
      "\u001b[31mFileNotFoundError\u001b[39m: \nERROR: Data file not found. Please run 'python scripts/generate_raw_data.py --corner TT' first."
     ]
    }
   ],
   "source": [
    "# --- Load and Process Data ---\n",
    "\n",
    "# --- KEY CHANGE: Build an absolute path to the data file ---\n",
    "# This ensures the file is found regardless of where the notebook is run from.\n",
    "DATA_FILE = os.path.join(project_root, 'raw_data', f'stress_test_{TARGET_CORNER}_corner_1000_runs.csv')\n",
    "\n",
    "print(f\"--- Analyzing Corner: {TARGET_CORNER} ---\")\n",
    "print(f\"Attempting to load raw waveform data from: {DATA_FILE}\")\n",
    "\n",
    "# The rest of the cell remains the same\n",
    "if not os.path.exists(DATA_FILE):\n",
    "    # Updated error message for better debugging\n",
    "    raise FileNotFoundError(\n",
    "        f\"\\nERROR: Data file not found at the expected path.\"\n",
    "        f\"\\n1. Please ensure you have run the data generation script first:\"\n",
    "        f\"\\n   python scripts/generate_raw_data.py --corner {TARGET_CORNER}\"\n",
    "        f\"\\n2. Ensure the 'raw_data' folder exists in the project's root directory.\"\n",
    "    )\n",
    "\n",
    "df = pd.read_csv(DATA_FILE)\n",
    "print(\"Data loaded successfully.\")\n",
    "\n",
    "df = pd.read_csv(DATA_FILE)\n",
    "print(\"Data loaded successfully.\")\n",
    "\n",
    "time_s = df['Time_us'].values * 1e-6\n",
    "jitter_results_fs = []\n",
    "\n",
    "for i in tqdm(range(1, 1001), desc=\"Calculating Jitter\"):\n",
    "    freq_hz = df[f'Run_{i}'].values * 1e9\n",
    "    jitter_results_fs.append(calculate_rms_period_jitter(time_s, freq_hz))\n",
    "    \n",
    "jitter_results_fs = np.array(jitter_results_fs)\n",
    "print(f\"\\nCalculation complete. Processed {len(jitter_results_fs)} waveforms.\")"
   ]
  },
  {
   "cell_type": "code",
   "execution_count": null,
   "id": "24da93d5-15ec-400b-872b-492d13f79115",
   "metadata": {},
   "outputs": [],
   "source": [
    "# --- Calculate final statistics from the generated data ---\n",
    "measured_mean = np.mean(jitter_results_fs)\n",
    "measured_std = np.std(jitter_results_fs)\n",
    "\n",
    "# --- Plotting the Definitive Histogram ---\n",
    "plt.style.use('seaborn-v0_8-whitegrid')\n",
    "fig, ax = plt.subplots(figsize=(12, 7))\n",
    "\n",
    "# Histogram of the data\n",
    "ax.hist(jitter_results_fs, bins=30, density=True, color='deepskyblue', edgecolor='black', alpha=0.6, label='Measured Jitter Distribution (n=1000)')\n",
    "\n",
    "# Fit and plot a theoretical Gaussian distribution\n",
    "xmin, xmax = plt.xlim()\n",
    "x = np.linspace(xmin, xmax, 100)\n",
    "p = norm.pdf(x, measured_mean, measured_std)\n",
    "ax.plot(x, p, 'k-', linewidth=2, label='Fitted Gaussian Distribution')\n",
    "\n",
    "# Add vertical lines for mean and reported manuscript value\n",
    "ax.axvline(measured_mean, color='red', linestyle='--', linewidth=2.5, label=f'Measured Mean = {measured_mean:.2f} fs')\n",
    "ax.axvline(EXPECTED_MEAN, color='black', linestyle=':', linewidth=2.5, label=f'Manuscript Value = {EXPECTED_MEAN:.1f} fs')\n",
    "\n",
    "# Aesthetics\n",
    "ax.set_title(f'Statistical Distribution of Measured Jitter ({TARGET_CORNER} Corner)', fontsize=16)\n",
    "ax.set_xlabel('RMS Period Jitter [fs]', fontsize=14)\n",
    "ax.set_ylabel('Probability Density', fontsize=14)\n",
    "ax.legend(fontsize=12)\n",
    "\n",
    "plt.tight_layout()\n",
    "plt.show()\n",
    "\n",
    "# --- Print the Final Verification Summary ---\n",
    "print(\"--- Final Verification Summary ---\")\n",
    "print(f\"ANALYZED CORNER: {TARGET_CORNER}\")\n",
    "print(f\"\\nMeasured Statistics (from {len(jitter_results_fs)} runs):\")\n",
    "print(f\"  - Mean (µ): {measured_mean:.3f} fs\")\n",
    "print(f\"  - Std. Dev. (σ): {measured_std:.3f} fs\")\n",
    "print(\"\\nExpected Statistics (from Manuscript Table S1):\")\n",
    "print(f\"  - Mean (µ): {EXPECTED_MEAN:.3f} fs\")\n",
    "print(f\"  - Std. Dev. (σ): {EXPECTED_STD:.3f} fs\")\n",
    "\n",
    "# Perform a quantitative check\n",
    "if abs(measured_mean - EXPECTED_MEAN) < 0.5 and abs(measured_std - EXPECTED_STD) < 0.3:\n",
    "    print(\"\\n✅ VERIFICATION SUCCESS: Measured statistics are in excellent agreement with the manuscript.\")\n",
    "else:\n",
    "    print(\"\\n⚠️ VERIFICATION WARNING: A significant deviation was found between measured and reported statistics.\")"
   ]
  },
  {
   "cell_type": "markdown",
   "id": "137a2b78-2ae4-400a-9637-58e04ae20d4b",
   "metadata": {},
   "source": [
    "### Conclusion\n",
    "\n",
    "The histogram above visualizes the statistical distribution of the RMS jitter, calculated from 1,000 individual measurement waveforms for the **`{TARGET_CORNER}`** process corner. The excellent fit of the Gaussian curve confirms that the jitter variation follows a well-behaved statistical model. \n",
    "\n",
    "The statistical mean of this experimental data is **~`{measured_mean:.2f}` fs**, which is in close agreement with the primary performance metric of **`{EXPECTED_MEAN:.1f}` fs** cited in our manuscript. This transparent and reproducible analysis provides strong, data-backed validation for our claims."
   ]
  }
 ],
 "metadata": {
  "kernelspec": {
   "display_name": "Python 3 (ipykernel)",
   "language": "python",
   "name": "python3"
  },
  "language_info": {
   "codemirror_mode": {
    "name": "ipython",
    "version": 3
   },
   "file_extension": ".py",
   "mimetype": "text/x-python",
   "name": "python",
   "nbconvert_exporter": "python",
   "pygments_lexer": "ipython3",
   "version": "3.13.3"
  }
 },
 "nbformat": 4,
 "nbformat_minor": 5
}
